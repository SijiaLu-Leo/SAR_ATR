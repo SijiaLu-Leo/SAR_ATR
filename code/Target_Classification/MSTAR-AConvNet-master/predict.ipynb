{
 "metadata": {
  "name": ""
 },
 "nbformat": 3,
 "nbformat_minor": 0,
 "worksheets": [
  {
   "cells": [
    {
     "cell_type": "code",
     "collapsed": false,
     "input": [
      "import numpy as np\n",
      "import matplotlib.pyplot as plt\n",
      "%matplotlib inline\n",
      "\n",
      "# Make sure that caffe is on the python path:\n",
      "caffe_root = '/home/ubuntu/caffe-master/'  # this file is expected to be in {caffe_root}/examples\n",
      "import sys\n",
      "sys.path.insert(0, caffe_root + 'python')\n",
      "\n",
      "import caffe\n",
      "\n",
      "plt.rcParams['figure.figsize'] = (5, 5)\n",
      "plt.rcParams['image.interpolation'] = 'nearest'\n",
      "plt.rcParams['image.cmap'] = 'gray'\n",
      "\n",
      "caffe.set_mode_cpu()\n",
      "net = caffe.Classifier(caffe_root + 'examples/MSTAR/MSTAR_full_conv.prototxt',\n",
      "                       caffe_root + 'examples/MSTAR/MSTAR_5layer_conv_iter_14000.caffemodel')\n",
      "net.transformer.set_raw_scale('data', 255)  # the reference model operates on images in [0,255] range instead of [0,1]\n",
      "#net.set_phase_test()\n",
      "#net.set_mode_cpu()\n",
      "#net.set_raw_scale('data', 255)\n",
      "# input preprocessing: 'data' is the name of the input blob == net.inputs[0]\n",
      "\n",
      "scores = net.predict([caffe.io.load_image(caffe_root + 'examples/MSTAR/TEST_T72_126.jpeg')])\n",
      "plt.imshow(caffe.io.load_image(caffe_root + 'examples/MSTAR/TEST_T72_126.jpeg').reshape(88,88))"
     ],
     "language": "python",
     "metadata": {},
     "outputs": [
      {
       "ename": "AttributeError",
       "evalue": "'Classifier' object has no attribute 'transformer'",
       "output_type": "pyerr",
       "traceback": [
        "\u001b[0;31m---------------------------------------------------------------------------\u001b[0m\n\u001b[0;31mAttributeError\u001b[0m                            Traceback (most recent call last)",
        "\u001b[0;32m<ipython-input-2-be3b1936167b>\u001b[0m in \u001b[0;36m<module>\u001b[0;34m()\u001b[0m\n\u001b[1;32m     17\u001b[0m net = caffe.Classifier(caffe_root + 'examples/MSTAR/MSTAR_full_conv.prototxt',\n\u001b[1;32m     18\u001b[0m                        caffe_root + 'examples/MSTAR/MSTAR_5layer_conv_iter_14000.caffemodel')\n\u001b[0;32m---> 19\u001b[0;31m \u001b[0mnet\u001b[0m\u001b[0;34m.\u001b[0m\u001b[0mtransformer\u001b[0m\u001b[0;34m.\u001b[0m\u001b[0mset_raw_scale\u001b[0m\u001b[0;34m(\u001b[0m\u001b[0;34m'data'\u001b[0m\u001b[0;34m,\u001b[0m \u001b[0;36m255\u001b[0m\u001b[0;34m)\u001b[0m  \u001b[0;31m# the reference model operates on images in [0,255] range instead of [0,1]\u001b[0m\u001b[0;34m\u001b[0m\u001b[0m\n\u001b[0m\u001b[1;32m     20\u001b[0m \u001b[0;31m#net.set_phase_test()\u001b[0m\u001b[0;34m\u001b[0m\u001b[0;34m\u001b[0m\u001b[0m\n\u001b[1;32m     21\u001b[0m \u001b[0;31m#net.set_mode_cpu()\u001b[0m\u001b[0;34m\u001b[0m\u001b[0;34m\u001b[0m\u001b[0m\n",
        "\u001b[0;31mAttributeError\u001b[0m: 'Classifier' object has no attribute 'transformer'"
       ]
      }
     ],
     "prompt_number": 2
    },
    {
     "cell_type": "code",
     "collapsed": false,
     "input": [],
     "language": "python",
     "metadata": {},
     "outputs": [],
     "prompt_number": 1
    },
    {
     "cell_type": "code",
     "collapsed": false,
     "input": [],
     "language": "python",
     "metadata": {},
     "outputs": []
    }
   ],
   "metadata": {}
  }
 ]
}